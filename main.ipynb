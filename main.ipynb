{
 "cells": [
  {
   "attachments": {},
   "cell_type": "markdown",
   "metadata": {},
   "source": [
    "1. Utilice la herramienta pefile para examinar el PE header y obtenga las DLL y las APIs que cada uno de los ejecutables utilizan. ¿Qué diferencias observa entre los ejemplos? ¿Existe algún indicio sospechoso en la cantidad de DLLs y las APIs llamadas?\n",
    "2. Obtenga la información de las secciones del PE Header. ¿Qué significa que algunas secciones tengan como parte de su nombre “upx”? Realice el procedimiento de desempaquetado para obtener las llamadas completas de las APIs.\n",
    "3. Según el paper “Towards Understanding Malware Behaviour by the Extraction of API Calls”, ¿en que categoría sospechosas pueden clasificarse estos ejemplos en base a algunas de las llamadas a las APIs que realizan? Muestre una tabla con las APIs sospechosas y la categoría de malware que el paper propone.\n",
    "4. Para el archivo “sample_vg655_25th.exe” obtenga el HASH en base al algoritmo SHA256.\n",
    "5. Para el archivo “sample_vg655_25th.exe”, ¿cuál es el propósito de la DLL ADVAPI32.dll?\n",
    "6. Para el archivo “sample_vg655_25th.exe”, ¿cuál es el propósito de la API\n",
    "CryptReleaseContext?\n",
    "7. Con la información recopilada hasta el momento, indique para el archivo\n",
    "““sample_vg655_25th.exe” si es sospechoso o no, y cual podría ser su propósito."
   ]
  },
  {
   "cell_type": "code",
   "execution_count": 5,
   "metadata": {},
   "outputs": [
    {
     "name": "stdout",
     "output_type": "stream",
     "text": [
      "LLAMADAS A DLL \t\n",
      "b'KERNEL32.dll'\n",
      "LLAMADAS A FUNCIONES \t\n",
      "\t b'GetFileAttributesW'\n",
      "\t b'GetFileSizeEx'\n",
      "\t b'CreateFileA'\n",
      "\t b'InitializeCriticalSection'\n",
      "\t b'DeleteCriticalSection'\n",
      "\t b'ReadFile'\n",
      "\t b'GetFileSize'\n",
      "\t b'WriteFile'\n",
      "\t b'LeaveCriticalSection'\n",
      "\t b'EnterCriticalSection'\n",
      "\t b'SetFileAttributesW'\n",
      "\t b'SetCurrentDirectoryW'\n",
      "\t b'CreateDirectoryW'\n",
      "\t b'GetTempPathW'\n",
      "\t b'GetWindowsDirectoryW'\n",
      "\t b'GetFileAttributesA'\n",
      "\t b'SizeofResource'\n",
      "\t b'LockResource'\n",
      "\t b'LoadResource'\n",
      "\t b'MultiByteToWideChar'\n",
      "\t b'Sleep'\n",
      "\t b'OpenMutexA'\n",
      "\t b'GetFullPathNameA'\n",
      "\t b'CopyFileA'\n",
      "\t b'GetModuleFileNameA'\n",
      "\t b'VirtualAlloc'\n",
      "\t b'VirtualFree'\n",
      "\t b'FreeLibrary'\n",
      "\t b'HeapAlloc'\n",
      "\t b'GetProcessHeap'\n",
      "\t b'GetModuleHandleA'\n",
      "\t b'SetLastError'\n",
      "\t b'VirtualProtect'\n",
      "\t b'IsBadReadPtr'\n",
      "\t b'HeapFree'\n",
      "\t b'SystemTimeToFileTime'\n",
      "\t b'LocalFileTimeToFileTime'\n",
      "\t b'CreateDirectoryA'\n",
      "\t b'GetStartupInfoA'\n",
      "\t b'SetFilePointer'\n",
      "\t b'SetFileTime'\n",
      "\t b'GetComputerNameW'\n",
      "\t b'GetCurrentDirectoryA'\n",
      "\t b'SetCurrentDirectoryA'\n",
      "\t b'GlobalAlloc'\n",
      "\t b'LoadLibraryA'\n",
      "\t b'GetProcAddress'\n",
      "\t b'GlobalFree'\n",
      "\t b'CreateProcessA'\n",
      "\t b'CloseHandle'\n",
      "\t b'WaitForSingleObject'\n",
      "\t b'TerminateProcess'\n",
      "\t b'GetExitCodeProcess'\n",
      "\t b'FindResourceA'\n",
      "LLAMADAS A DLL \t\n",
      "b'USER32.dll'\n",
      "LLAMADAS A FUNCIONES \t\n",
      "\t b'wsprintfA'\n",
      "LLAMADAS A DLL \t\n",
      "b'ADVAPI32.dll'\n",
      "LLAMADAS A FUNCIONES \t\n",
      "\t b'CreateServiceA'\n",
      "\t b'OpenServiceA'\n",
      "\t b'StartServiceA'\n",
      "\t b'CloseServiceHandle'\n",
      "\t b'CryptReleaseContext'\n",
      "\t b'RegCreateKeyW'\n",
      "\t b'RegSetValueExA'\n",
      "\t b'RegQueryValueExA'\n",
      "\t b'RegCloseKey'\n",
      "\t b'OpenSCManagerA'\n",
      "LLAMADAS A DLL \t\n",
      "b'MSVCRT.dll'\n",
      "LLAMADAS A FUNCIONES \t\n",
      "\t b'realloc'\n",
      "\t b'fclose'\n",
      "\t b'fwrite'\n",
      "\t b'fread'\n",
      "\t b'fopen'\n",
      "\t b'sprintf'\n",
      "\t b'rand'\n",
      "\t b'srand'\n",
      "\t b'strcpy'\n",
      "\t b'memset'\n",
      "\t b'strlen'\n",
      "\t b'wcscat'\n",
      "\t b'wcslen'\n",
      "\t b'__CxxFrameHandler'\n",
      "\t b'??3@YAXPAX@Z'\n",
      "\t b'memcmp'\n",
      "\t b'_except_handler3'\n",
      "\t b'_local_unwind2'\n",
      "\t b'wcsrchr'\n",
      "\t b'swprintf'\n",
      "\t b'??2@YAPAXI@Z'\n",
      "\t b'memcpy'\n",
      "\t b'strcmp'\n",
      "\t b'strrchr'\n",
      "\t b'__p___argv'\n",
      "\t b'__p___argc'\n",
      "\t b'_stricmp'\n",
      "\t b'free'\n",
      "\t b'malloc'\n",
      "\t b'??0exception@@QAE@ABV0@@Z'\n",
      "\t b'??1exception@@UAE@XZ'\n",
      "\t b'??0exception@@QAE@ABQBD@Z'\n",
      "\t b'_CxxThrowException'\n",
      "\t b'calloc'\n",
      "\t b'strcat'\n",
      "\t b'_mbsstr'\n",
      "\t b'??1type_info@@UAE@XZ'\n",
      "\t b'_exit'\n",
      "\t b'_XcptFilter'\n",
      "\t b'exit'\n",
      "\t b'_acmdln'\n",
      "\t b'__getmainargs'\n",
      "\t b'_initterm'\n",
      "\t b'__setusermatherr'\n",
      "\t b'_adjust_fdiv'\n",
      "\t b'__p__commode'\n",
      "\t b'__p__fmode'\n",
      "\t b'__set_app_type'\n",
      "\t b'_controlfp'\n"
     ]
    }
   ],
   "source": [
    "import pefile\n",
    "pe_sample = pefile.PE(\"./malware/sample_vg655_25th.exe\")\n",
    "for entry in pe_sample.DIRECTORY_ENTRY_IMPORT:\n",
    "    print('LLAMADAS A DLL \\t')\n",
    "    print (entry.dll)\n",
    "    print('LLAMADAS A FUNCIONES \\t')\n",
    "    for function in entry.imports:\n",
    "        print ('\\t', function.name)"
   ]
  },
  {
   "cell_type": "code",
   "execution_count": 6,
   "metadata": {},
   "outputs": [
    {
     "name": "stdout",
     "output_type": "stream",
     "text": [
      "LLAMADAS A DLL \t\n",
      "b'KERNEL32.DLL'\n",
      "LLAMADAS A FUNCIONES \t\n",
      "\t b'LoadLibraryA'\n",
      "\t b'ExitProcess'\n",
      "\t b'GetProcAddress'\n",
      "\t b'VirtualProtect'\n",
      "LLAMADAS A DLL \t\n",
      "b'MSVCRT.dll'\n",
      "LLAMADAS A FUNCIONES \t\n",
      "\t b'atol'\n",
      "LLAMADAS A DLL \t\n",
      "b'SHELL32.dll'\n",
      "LLAMADAS A FUNCIONES \t\n",
      "\t b'SHChangeNotify'\n",
      "LLAMADAS A DLL \t\n",
      "b'USER32.dll'\n",
      "LLAMADAS A FUNCIONES \t\n",
      "\t b'LoadStringA'\n",
      "LLAMADAS A DLL \t\n",
      "b'WS2_32.dll'\n",
      "LLAMADAS A FUNCIONES \t\n",
      "\t b'closesocket'\n"
     ]
    }
   ],
   "source": [
    "pe_sample2 = pefile.PE(\"./malware/sample_qwrty_dk2\")\n",
    "for entry in pe_sample2.DIRECTORY_ENTRY_IMPORT:\n",
    "    print('LLAMADAS A DLL \\t')\n",
    "    print (entry.dll)\n",
    "    print('LLAMADAS A FUNCIONES \\t')\n",
    "    for function in entry.imports:\n",
    "        print ('\\t', function.name)"
   ]
  },
  {
   "attachments": {},
   "cell_type": "markdown",
   "metadata": {},
   "source": [
    "1. ¿Qué diferencias observa entre los ejemplos? ¿Existe algún indicio sospechoso en la cantidad de DLLs y las APIs llamadas? en En uno se llaman funciones y en el otro se abren archivos. Es muy sospechoso el archivo \"sample_vg655_25th\" dado a que lee y abre archivos lo cual no debería de pasar."
   ]
  },
  {
   "cell_type": "code",
   "execution_count": 7,
   "metadata": {},
   "outputs": [
    {
     "name": "stdout",
     "output_type": "stream",
     "text": [
      "SECCIONES \t\n",
      "b'.text\\x00\\x00\\x00' 0x1000 0x69b0 28672\n",
      "b'.rdata\\x00\\x00' 0x8000 0x5f70 24576\n",
      "b'.data\\x00\\x00\\x00' 0xe000 0x1958 8192\n",
      "b'.rsrc\\x00\\x00\\x00' 0x10000 0x349fa0 3448832\n"
     ]
    }
   ],
   "source": [
    "print('SECCIONES \\t')\n",
    "for section in pe_sample.sections:\n",
    "    print(section.Name, hex(section.VirtualAddress), hex(section.Misc_VirtualSize),\n",
    "section.SizeOfRawData)"
   ]
  },
  {
   "cell_type": "code",
   "execution_count": 8,
   "metadata": {},
   "outputs": [
    {
     "name": "stdout",
     "output_type": "stream",
     "text": [
      "SECCIONES \t\n",
      "b'UPX0\\x00\\x00\\x00\\x00' 0x1000 0x5000 0\n",
      "b'UPX1\\x00\\x00\\x00\\x00' 0x6000 0x1000 4096\n",
      "b'.rsrc\\x00\\x00\\x00' 0x7000 0x1000 512\n"
     ]
    }
   ],
   "source": [
    "print('SECCIONES \\t')\n",
    "for section in pe_sample2.sections:\n",
    "    print(section.Name, hex(section.VirtualAddress), hex(section.Misc_VirtualSize),\n",
    "section.SizeOfRawData)"
   ]
  },
  {
   "attachments": {},
   "cell_type": "markdown",
   "metadata": {},
   "source": [
    "2. Obtenga la información de las secciones del PE Header. ¿Qué significa que algunas secciones tengan como parte de su nombre “upx”? Realice el procedimiento de desempaquetado para obtener las llamadas completas de las APIs.\n",
    "Quieren decir que están muy comprimidos por lo cual oculta información que nos puede apoyar a ver que tan peligroso es."
   ]
  },
  {
   "attachments": {},
   "cell_type": "markdown",
   "metadata": {},
   "source": [
    "3. Según el paper “Towards Understanding Malware Behaviour by the Extraction of API Calls”, ¿en que categoría sospechosas pueden clasificarse estos ejemplos en base a algunas de las llamadas a las APIs que realizan? Muestre una tabla con las APIs sospechosas y la categoría de malware que el paper propone."
   ]
  },
  {
   "cell_type": "code",
   "execution_count": 10,
   "metadata": {},
   "outputs": [
    {
     "name": "stdout",
     "output_type": "stream",
     "text": [
      "ed01ebfbc9eb5bbea545af4d01bf5f1071661840480439c6e5babe8e080e41aa\n"
     ]
    }
   ],
   "source": [
    "import hashlib\n",
    "hashable = hashlib.sha256()\n",
    "with open(\"./malware/sample_vg655_25th.exe\", 'rb') as file:\n",
    "  for byte in iter(lambda: file.read(4096), b\"\"):\n",
    "    hashable.update(byte)\n",
    "  print(hashable.hexdigest())"
   ]
  },
  {
   "attachments": {},
   "cell_type": "markdown",
   "metadata": {},
   "source": [
    "4. Para el archivo “sample_vg655_25th.exe”, ¿cuál es el propósito de la DLL ADVAPI32.dll? La DLL ADVAPI32.dll es una biblioteca de enlace dinámico utilizada por el sistema operativo Microsoft Windows. Contiene una serie de funciones de programación que se utilizan para llevar a cabo diversas tareas relacionadas con la seguridad y la gestión de recursos del sistema. Algunas de las funciones incluidas en la ADVAPI32.dll son: Autenticación y autorización de usuarios, Gestión de claves de registro y criptografía, Administración de servicios y eventos del sistema, Acceso a la información del sistema y la configuración de seguridad, Comunicación entre procesos y usuarios del sistema. En resumen, el propósito principal de la ADVAPI32.dll es proporcionar a los desarrolladores de software de Windows una interfaz para acceder a funciones de seguridad y gestión del sistema operativo de manera eficiente."
   ]
  },
  {
   "attachments": {},
   "cell_type": "markdown",
   "metadata": {},
   "source": [
    "5. Para el archivo “sample_vg655_25th.exe”, ¿cuál es el propósito de la API\n",
    "CryptReleaseContext?\n",
    "La API CryptReleaseContext se utiliza en aplicaciones de Windows para liberar un contexto de criptografía y liberar los recursos del sistema asociados con ese contexto. El contexto de criptografía es un objeto que se crea mediante la API CryptAcquireContext y se utiliza para realizar operaciones criptográficas, como la generación de claves o la encriptación de datos."
   ]
  },
  {
   "attachments": {},
   "cell_type": "markdown",
   "metadata": {},
   "source": [
    "6. Con la información recopilada hasta el momento, indique para el archivo\n",
    "““sample_vg655_25th.exe” si es sospechoso o no, y cual podría ser su propósito. Usa commandos de crypt lo cual sugiere que algo raro está sucediendo."
   ]
  },
  {
   "attachments": {},
   "cell_type": "markdown",
   "metadata": {},
   "source": [
    "Parte 2\n",
    "1. Utilice la plataforma de análisis dinámico https://www.hybrid-analysis.com y cargue el archivo “sample_vg655_25th.exe”. ¿Se corresponde el HASH de la plataforma con el generado? ¿Cuál es el nombre del malware encontrado? ¿Cuál es el propósito de este malware?\n",
    "- owo_im_not_ransomware_xd.exe\n",
    "- ed01ebfbc9eb5bbea545af4d01bf5f1071661840480439c6e5babe8e080e41aa\n",
    "\n",
    "Si es igual y el nombre nos sugiere que es un ransomware."
   ]
  },
  {
   "attachments": {},
   "cell_type": "markdown",
   "metadata": {},
   "source": [
    "2. Muestre las capturas de pantalla sobre los mensajes que este malware presenta a usuario. ¿Se corresponden las sospechas con el análisis realizado en el punto 7?\n",
    "\n",
    "Se adjuntan fotos en el repo.\n",
    "\n"
   ]
  }
 ],
 "metadata": {
  "kernelspec": {
   "display_name": "venv",
   "language": "python",
   "name": "python3"
  },
  "language_info": {
   "codemirror_mode": {
    "name": "ipython",
    "version": 3
   },
   "file_extension": ".py",
   "mimetype": "text/x-python",
   "name": "python",
   "nbconvert_exporter": "python",
   "pygments_lexer": "ipython3",
   "version": "3.10.4"
  },
  "orig_nbformat": 4,
  "vscode": {
   "interpreter": {
    "hash": "063365a11acb5f437a0ad7e1de80df684b4f41267ec0c43a8a6ab0a62ac8f71a"
   }
  }
 },
 "nbformat": 4,
 "nbformat_minor": 2
}
